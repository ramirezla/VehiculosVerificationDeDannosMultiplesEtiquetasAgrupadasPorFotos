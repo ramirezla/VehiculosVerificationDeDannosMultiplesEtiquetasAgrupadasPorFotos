{
 "cells": [
  {
   "cell_type": "markdown",
   "metadata": {},
   "source": [
    "Importando las librerias"
   ]
  },
  {
   "cell_type": "code",
   "execution_count": 7,
   "metadata": {},
   "outputs": [],
   "source": [
    "import pandas as pd\n",
    "import os"
   ]
  },
  {
   "cell_type": "markdown",
   "metadata": {},
   "source": [
    "DataFrame vacío con las columnas"
   ]
  },
  {
   "cell_type": "code",
   "execution_count": 4,
   "metadata": {},
   "outputs": [
    {
     "name": "stdout",
     "output_type": "stream",
     "text": [
      "Empty DataFrame\n",
      "Columns: [Imagen/danno, siniestro, roof, sun roof, windshield, outside mirror, windshield wiper, hood, grill, head light, bumper, license plate, indicator light, front fender, shield, wheel, hub cap, door, door handle, window, roof post, quarter window, back fender, tail light, trunk, rearview mirror, window frame, seat, steering wheel, windshield washer, air filter, battery, distributor, radiator, alternator, oil filter, disk brake, muffler, transmission, spare wheel]\n",
      "Index: []\n",
      "\n",
      "[0 rows x 40 columns]\n"
     ]
    }
   ],
   "source": [
    "# Lista de encabezados\n",
    "columnas = [\n",
    "    \"Imagen/danno\", \"siniestro\", \"roof\", \"sun roof\", \"windshield\", \"outside mirror\", \n",
    "    \"windshield wiper\", \"hood\", \"grill\", \"head light\", \"bumper\", \"license plate\", \n",
    "    \"indicator light\", \"front fender\", \"shield\", \"wheel\", \"hub cap\", \"door\", \n",
    "    \"door handle\", \"window\", \"roof post\", \"quarter window\", \"back fender\", \n",
    "    \"tail light\", \"trunk\", \"rearview mirror\", \"window frame\", \"seat\", \n",
    "    \"steering wheel\", \"windshield washer\", \"air filter\", \"battery\", \n",
    "    \"distributor\", \"radiator\", \"alternator\", \"oil filter\", \"disk brake\", \n",
    "    \"muffler\", \"transmission\", \"spare wheel\"\n",
    "]\n",
    "\n",
    "# Crear un DataFrame vacío con las columnas especificadas\n",
    "df = pd.DataFrame(columns=columnas)\n",
    "\n",
    "# Mostrar el DataFrame\n",
    "print(df)"
   ]
  },
  {
   "cell_type": "markdown",
   "metadata": {},
   "source": [
    "Lista con los directorios que contienen los archivos"
   ]
  },
  {
   "cell_type": "code",
   "execution_count": 5,
   "metadata": {},
   "outputs": [],
   "source": [
    "directorios = [\n",
    "    \"data/crack\",\n",
    "    \"data/dent\",\n",
    "    \"data/glass shatter\",\n",
    "    \"data/lamp broken\",\n",
    "    \"data/scratch\",\n",
    "    \"data/tire flat\"\n",
    "]"
   ]
  },
  {
   "cell_type": "code",
   "execution_count": 4,
   "metadata": {},
   "outputs": [
    {
     "name": "stdout",
     "output_type": "stream",
     "text": [
      "     Imagen/danno           siniestro ligero moderado fuerte  roof sun roof  \\\n",
      "5803        1.jpg             scratch   None     None   None  None     None   \n",
      "171         2.jpg                dent   None     None   None  None     None   \n",
      "5804        3.jpg             scratch   None     None   None  None     None   \n",
      "8152        4.jpg           tire flat   None     None   None  None     None   \n",
      "2250        5.jpg       glass shatter   None     None   None  None     None   \n",
      "...           ...                 ...    ...      ...    ...   ...      ...   \n",
      "5798     8717.jpg  nuevas fotografias   None     None   None  None     None   \n",
      "5784     8718.jpg  nuevas fotografias   None     None   None  None     None   \n",
      "5793     8719.jpg  nuevas fotografias   None     None   None  None     None   \n",
      "5799     8720.jpg  nuevas fotografias   None     None   None  None     None   \n",
      "5800     8721.jpg  nuevas fotografias   None     None   None  None     None   \n",
      "\n",
      "     windshield outside mirror windshield wiper  ... air filter battery  \\\n",
      "5803       None           None             None  ...       None    None   \n",
      "171        None           None             None  ...       None    None   \n",
      "5804       None           None             None  ...       None    None   \n",
      "8152       None           None             None  ...       None    None   \n",
      "2250       None           None             None  ...       None    None   \n",
      "...         ...            ...              ...  ...        ...     ...   \n",
      "5798       None           None             None  ...       None    None   \n",
      "5784       None           None             None  ...       None    None   \n",
      "5793       None           None             None  ...       None    None   \n",
      "5799       None           None             None  ...       None    None   \n",
      "5800       None           None             None  ...       None    None   \n",
      "\n",
      "     distributor radiator alternator oil filter disk brake muffler  \\\n",
      "5803        None     None       None       None       None    None   \n",
      "171         None     None       None       None       None    None   \n",
      "5804        None     None       None       None       None    None   \n",
      "8152        None     None       None       None       None    None   \n",
      "2250        None     None       None       None       None    None   \n",
      "...          ...      ...        ...        ...        ...     ...   \n",
      "5798        None     None       None       None       None    None   \n",
      "5784        None     None       None       None       None    None   \n",
      "5793        None     None       None       None       None    None   \n",
      "5799        None     None       None       None       None    None   \n",
      "5800        None     None       None       None       None    None   \n",
      "\n",
      "     transmission spare wheel  \n",
      "5803         None        None  \n",
      "171          None        None  \n",
      "5804         None        None  \n",
      "8152         None        None  \n",
      "2250         None        None  \n",
      "...           ...         ...  \n",
      "5798         None        None  \n",
      "5784         None        None  \n",
      "5793         None        None  \n",
      "5799         None        None  \n",
      "5800         None        None  \n",
      "\n",
      "[8686 rows x 43 columns]\n"
     ]
    }
   ],
   "source": [
    "import os\n",
    "import pandas as pd\n",
    "\n",
    "# Lista de encabezados\n",
    "columnas = [\n",
    "    \"Imagen/danno\", \"siniestro\",\"ligero\",\"moderado\",\"fuerte\", \"roof\", \"sun roof\", \"windshield\", \"outside mirror\", \n",
    "    \"windshield wiper\", \"hood\", \"grill\", \"head light\", \"bumper\", \"license plate\", \n",
    "    \"indicator light\", \"front fender\", \"shield\", \"wheel\", \"hub cap\", \"door\", \n",
    "    \"door handle\", \"window\", \"roof post\", \"quarter window\", \"back fender\", \n",
    "    \"tail light\", \"trunk\", \"rearview mirror\", \"window frame\", \"seat\", \n",
    "    \"steering wheel\", \"windshield washer\", \"air filter\", \"battery\", \n",
    "    \"distributor\", \"radiator\", \"alternator\", \"oil filter\", \"disk brake\", \n",
    "    \"muffler\", \"transmission\", \"spare wheel\"\n",
    "]\n",
    "\n",
    "# Directorios a recorrer\n",
    "directorios = [\n",
    "    \"crack\",\n",
    "    \"dent\",\n",
    "    \"glass shatter\",\n",
    "    \"lamp broken\",\n",
    "    \"nuevas fotografias\",\n",
    "    \"scratch\",\n",
    "    \"tire flat\"\n",
    "]\n",
    "\n",
    "# Lista para almacenar los datos\n",
    "datos = []\n",
    "\n",
    "# Recorrer los directorios y obtener los nombres de los archivos\n",
    "for directorio in directorios:\n",
    "    # Obtener la lista de archivos en el directorio\n",
    "    archivos = os.listdir(directorio)\n",
    "    \n",
    "    # Obtener el nombre del siniestro (nombre del directorio)\n",
    "    siniestro = os.path.basename(directorio)\n",
    "    \n",
    "    # Recorrer los archivos y agregarlos a la lista de datos\n",
    "    for archivo in archivos:\n",
    "        datos.append([archivo, siniestro] + [None] * (len(columnas) - 2))\n",
    "\n",
    "# Crear el DataFrame\n",
    "df = pd.DataFrame(datos, columns=columnas)\n",
    "\n",
    "# Extraer el número del nombre del archivo y crear una columna temporal\n",
    "df[\"numero\"] = df[\"Imagen/danno\"].str.split(\".\").str[0].astype(int)\n",
    "\n",
    "# Ordenar el DataFrame por la columna temporal \"numero\"\n",
    "df_ordenado = df.sort_values(by=\"numero\")\n",
    "\n",
    "# Eliminar la columna temporal \"numero\"\n",
    "df_ordenado = df_ordenado.drop(columns=[\"numero\"])\n",
    "\n",
    "# Mostrar el DataFrame ordenado\n",
    "print(df_ordenado)\n",
    "\n",
    "# Guardar el DataFrame ordenado en un archivo CSV\n",
    "df_ordenado.to_csv(\"datos_siniestros_nuevas_fotografias_ordenados.csv\", index=False)"
   ]
  }
 ],
 "metadata": {
  "kernelspec": {
   "display_name": ".venv",
   "language": "python",
   "name": "python3"
  },
  "language_info": {
   "codemirror_mode": {
    "name": "ipython",
    "version": 3
   },
   "file_extension": ".py",
   "mimetype": "text/x-python",
   "name": "python",
   "nbconvert_exporter": "python",
   "pygments_lexer": "ipython3",
   "version": "3.13.2"
  }
 },
 "nbformat": 4,
 "nbformat_minor": 2
}
